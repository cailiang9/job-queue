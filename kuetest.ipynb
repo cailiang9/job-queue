{
 "cells": [
  {
   "cell_type": "code",
   "execution_count": 28,
   "metadata": {},
   "outputs": [],
   "source": [
    "!conda install -y -n canarydev redis "
   ]
  },
  {
   "cell_type": "code",
   "execution_count": 20,
   "metadata": {},
   "outputs": [],
   "source": [
    "!npm install -g kue-ui kue"
   ]
  },
  {
   "cell_type": "code",
   "execution_count": 109,
   "metadata": {},
   "outputs": [
    {
     "name": "stdout",
     "output_type": "stream",
     "text": [
      "#!/usr/bin/env bash\r\n",
      "nohup \"$@\" 1>$LOGFNAME.log 2>$LOGFNAME.err &\r\n",
      "\r\n"
     ]
    }
   ],
   "source": [
    "%%file lognohup\n",
    "#!/usr/bin/env bash\n",
    "nohup \"$@\" 1>$LOGFNAME.log 2>$LOGFNAME.err &"
   ]
  },
  {
   "cell_type": "code",
   "execution_count": null,
   "metadata": {},
   "outputs": [],
   "source": [
    "!chmod +x lognohup"
   ]
  },
  {
   "cell_type": "code",
   "execution_count": 34,
   "metadata": {},
   "outputs": [],
   "source": [
    "!LOGFNAME=redis-server lognohup redis-server\n",
    "!LOGFNAME=kui-ui lognohup node kui-ui.js"
   ]
  },
  {
   "cell_type": "code",
   "execution_count": 137,
   "metadata": {},
   "outputs": [],
   "source": [
    "!tail -n 80 kui-ui.??? redis-server.???"
   ]
  },
  {
   "cell_type": "code",
   "execution_count": 46,
   "metadata": {},
   "outputs": [],
   "source": [
    "!LOGFNAME=kuilist lognohup node listJobs.js"
   ]
  },
  {
   "cell_type": "code",
   "execution_count": 58,
   "metadata": {},
   "outputs": [],
   "source": [
    "!kill 157528"
   ]
  },
  {
   "cell_type": "code",
   "execution_count": 98,
   "metadata": {},
   "outputs": [
    {
     "name": "stdout",
     "output_type": "stream",
     "text": [
      "==> kuilist.err <==\r\n",
      "\r\n",
      "==> kuilist.log <==\r\n",
      "Job 112, data : [object Object], Status : complete\r\n",
      "Job 113, data : [object Object], Status : complete\r\n",
      "Job 114, data : [object Object], Status : complete\r\n",
      "Job 115, data : [object Object], Status : complete\r\n",
      "Job 116, data : [object Object], Status : complete\r\n",
      "Job 117, data : [object Object], Status : complete\r\n",
      "Job 118, data : [object Object], Status : complete\r\n",
      "Job 119, data : [object Object], Status : complete\r\n",
      "Job 120, data : [object Object], Status : complete\r\n",
      "Job 121, data : [object Object], Status : complete\r\n"
     ]
    }
   ],
   "source": [
    "!pgrep -af listJobs\n",
    "!tail kuilist*"
   ]
  },
  {
   "cell_type": "code",
   "execution_count": 63,
   "metadata": {},
   "outputs": [],
   "source": [
    "!LOGFNAME=kuiworker0 lognohup node worker.js\n",
    "!LOGFNAME=kuiworker1 lognohup node worker.js\n",
    "!LOGFNAME=kuiworker2 lognohup node worker.js\n",
    "!LOGFNAME=kuiworker3 lognohup node worker.js"
   ]
  },
  {
   "cell_type": "code",
   "execution_count": 12,
   "metadata": {},
   "outputs": [
    {
     "name": "stdout",
     "output_type": "stream",
     "text": [
      "157708 node worker.js\n",
      "157715 node worker.js\n",
      "157723 node worker.js\n",
      "157731 node worker.js\n",
      "==> kuiworker0.err <==\n",
      "\n",
      "==> kuiworker0.log <==\n",
      "Downloading file : Sample/path/to/fileWed Dec 11 2019 19:37:25 GMT+0800 (China Standard Time)\n",
      "Download Complete\n",
      "Working on job 185\n",
      "{ file:\n",
      "   'Sample/path/to/fileWed Dec 11 2019 19:38:01 GMT+0800 (China Standard Time)' }\n",
      "2019-12-11T11:38:02.005Z\n",
      "Downloading file : Sample/path/to/fileWed Dec 11 2019 19:38:01 GMT+0800 (China Standard Time)\n",
      "Download Complete\n",
      "Working on job 189\n",
      "{ file:\n",
      "   'Sample/path/to/fileWed Dec 11 2019 19:39:04 GMT+0800 (China Standard Time)' }\n",
      "2019-12-11T11:39:04.770Z\n",
      "Downloading file : Sample/path/to/fileWed Dec 11 2019 19:39:04 GMT+0800 (China Standard Time)\n",
      "Download Complete\n",
      "Working on job 192\n",
      "{ file:\n",
      "   'Sample/path/to/fileWed Dec 11 2019 19:39:45 GMT+0800 (China Standard Time)' }\n",
      "2019-12-11T11:39:45.267Z\n",
      "Downloading file : Sample/path/to/fileWed Dec 11 2019 19:39:45 GMT+0800 (China Standard Time)\n",
      "Download Complete\n",
      "\n",
      "==> kuiworker1.err <==\n",
      "\n",
      "==> kuiworker1.log <==\n",
      "Downloading file : Sample/path/to/fileWed Dec 11 2019 19:37:25 GMT+0800 (China Standard Time)\n",
      "Download Complete\n",
      "Working on job 184\n",
      "{ file:\n",
      "   'Sample/path/to/fileWed Dec 11 2019 19:38:01 GMT+0800 (China Standard Time)' }\n",
      "2019-12-11T11:38:02.005Z\n",
      "Downloading file : Sample/path/to/fileWed Dec 11 2019 19:38:01 GMT+0800 (China Standard Time)\n",
      "Download Complete\n",
      "Working on job 188\n",
      "{ file:\n",
      "   'Sample/path/to/fileWed Dec 11 2019 19:39:04 GMT+0800 (China Standard Time)' }\n",
      "2019-12-11T11:39:04.770Z\n",
      "Downloading file : Sample/path/to/fileWed Dec 11 2019 19:39:04 GMT+0800 (China Standard Time)\n",
      "Download Complete\n",
      "Working on job 193\n",
      "{ file:\n",
      "   'Sample/path/to/fileWed Dec 11 2019 19:39:45 GMT+0800 (China Standard Time)' }\n",
      "2019-12-11T11:39:45.267Z\n",
      "Downloading file : Sample/path/to/fileWed Dec 11 2019 19:39:45 GMT+0800 (China Standard Time)\n",
      "Download Complete\n",
      "\n",
      "==> kuiworker2.err <==\n",
      "\n",
      "==> kuiworker2.log <==\n",
      "Downloading file : Sample/path/to/fileWed Dec 11 2019 19:37:25 GMT+0800 (China Standard Time)\n",
      "Download Complete\n",
      "Working on job 182\n",
      "{ file:\n",
      "   'Sample/path/to/fileWed Dec 11 2019 19:38:01 GMT+0800 (China Standard Time)' }\n",
      "2019-12-11T11:38:02.005Z\n",
      "Downloading file : Sample/path/to/fileWed Dec 11 2019 19:38:01 GMT+0800 (China Standard Time)\n",
      "Download Complete\n",
      "Working on job 186\n",
      "{ file:\n",
      "   'Sample/path/to/fileWed Dec 11 2019 19:39:04 GMT+0800 (China Standard Time)' }\n",
      "2019-12-11T11:39:04.769Z\n",
      "Downloading file : Sample/path/to/fileWed Dec 11 2019 19:39:04 GMT+0800 (China Standard Time)\n",
      "Download Complete\n",
      "Working on job 190\n",
      "{ file:\n",
      "   'Sample/path/to/fileWed Dec 11 2019 19:39:45 GMT+0800 (China Standard Time)' }\n",
      "2019-12-11T11:39:45.267Z\n",
      "Downloading file : Sample/path/to/fileWed Dec 11 2019 19:39:45 GMT+0800 (China Standard Time)\n",
      "Download Complete\n",
      "\n",
      "==> kuiworker3.err <==\n",
      "\n",
      "==> kuiworker3.log <==\n",
      "Downloading file : Sample/path/to/fileWed Dec 11 2019 19:37:25 GMT+0800 (China Standard Time)\n",
      "Download Complete\n",
      "Working on job 183\n",
      "{ file:\n",
      "   'Sample/path/to/fileWed Dec 11 2019 19:38:01 GMT+0800 (China Standard Time)' }\n",
      "2019-12-11T11:38:02.005Z\n",
      "Downloading file : Sample/path/to/fileWed Dec 11 2019 19:38:01 GMT+0800 (China Standard Time)\n",
      "Download Complete\n",
      "Working on job 187\n",
      "{ file:\n",
      "   'Sample/path/to/fileWed Dec 11 2019 19:39:04 GMT+0800 (China Standard Time)' }\n",
      "2019-12-11T11:39:04.769Z\n",
      "Downloading file : Sample/path/to/fileWed Dec 11 2019 19:39:04 GMT+0800 (China Standard Time)\n",
      "Download Complete\n",
      "Working on job 191\n",
      "{ file:\n",
      "   'Sample/path/to/fileWed Dec 11 2019 19:39:45 GMT+0800 (China Standard Time)' }\n",
      "2019-12-11T11:39:45.267Z\n",
      "Downloading file : Sample/path/to/fileWed Dec 11 2019 19:39:45 GMT+0800 (China Standard Time)\n",
      "Download Complete\n"
     ]
    }
   ],
   "source": [
    "!pgrep -af worker.js\n",
    "!tail -n 20 kuiworker?.???"
   ]
  },
  {
   "cell_type": "code",
   "execution_count": 3,
   "metadata": {},
   "outputs": [
    {
     "name": "stdout",
     "output_type": "stream",
     "text": [
      "\u001b[35m2019-12-11T11:39:45.256Z\u001b[39m\n",
      "\u001b[35m2019-12-11T11:39:45.259Z\u001b[39m\n",
      "\u001b[35m2019-12-11T11:39:45.259Z\u001b[39m\n",
      "\u001b[35m2019-12-11T11:39:45.259Z\u001b[39m\n",
      "Job Submitted in the Queue.\n"
     ]
    }
   ],
   "source": [
    "!node client.js"
   ]
  },
  {
   "cell_type": "code",
   "execution_count": 61,
   "metadata": {},
   "outputs": [],
   "source": [
    "!kill `pgrep -f worker.js`"
   ]
  },
  {
   "cell_type": "code",
   "execution_count": 87,
   "metadata": {},
   "outputs": [
    {
     "name": "stdout",
     "output_type": "stream",
     "text": [
      "USER        PID %CPU %MEM    VSZ   RSS TTY      STAT START   TIME COMMAND\r\n",
      "mqq         659  0.0  0.0 621088 14708 ?        Sl   Dec06   0:00 ./node ./tsw\r\n",
      "mqq        1115  0.0  0.0 899540 33728 ?        Sl   Dec06   0:22 /usr/local/app/canary/bin/node /usr/local/app/canary/lib/node_modules/chp/bin/chp\r\n",
      "mqq        2494  0.0  0.0 563248 16660 ?        Sl   Dec06   0:00 node gitsvr.js\r\n",
      "mqq      156226  0.0  0.0 606652 47324 ?        Sl   18:12   0:01 node kui-ui.js\r\n",
      "mqq      157708  0.2  0.0 610580 43508 ?        Sl   19:32   0:00 node worker.js\r\n",
      "mqq      157715  0.2  0.0 610560 43280 ?        Sl   19:32   0:00 node worker.js\r\n",
      "mqq      157723  0.2  0.0 610600 43252 ?        Sl   19:32   0:00 node worker.js\r\n",
      "mqq      157731  0.2  0.0 610560 43548 ?        Sl   19:32   0:00 node worker.js\r\n",
      "mqq      157882  0.0  0.0 110396   900 pts/22   S+   19:36   0:00 grep -E node|CPU\r\n"
     ]
    }
   ],
   "source": [
    "!ps -aux |egrep 'node|CPU' |grep -v coffee"
   ]
  },
  {
   "cell_type": "code",
   "execution_count": 13,
   "metadata": {},
   "outputs": [
    {
     "name": "stdout",
     "output_type": "stream",
     "text": [
      "\u001b[1mdiff --git a/client.js b/client.js\u001b[m\n",
      "\u001b[1mindex 6e9bdf6..6809a83 100644\u001b[m\n",
      "\u001b[1m--- a/client.js\u001b[m\n",
      "\u001b[1m+++ b/client.js\u001b[m\n",
      "\u001b[36m@@ -1,20 +1,21 @@\u001b[m\n",
      " let kue   = require(`kue`);\u001b[m\n",
      "\u001b[31m-\u001b[m\n",
      " let queue = kue.createQueue();\u001b[m\n",
      " \u001b[m\n",
      "\u001b[32m+\u001b[m\u001b[32mvar i;\u001b[m\n",
      " //event handler. Called when job is saved to the Redis.\u001b[m\n",
      " queue.on(`job enqueue`, function(){\u001b[m\n",
      "     console.log(`Job Submitted in the Queue.`);\u001b[m\n",
      "\u001b[31m-    process.exit(0);\u001b[m\n",
      "\u001b[32m+\u001b[m\u001b[32m    if (i==4)\u001b[m\n",
      "\u001b[32m+\u001b[m\u001b[32m        process.exit(0);\u001b[m\n",
      " });\u001b[m\n",
      " \u001b[m\n",
      "\u001b[31m-let job = queue.create(`download`, {\u001b[m\n",
      "\u001b[31m-  file : `Sample/path/to/file`\u001b[m\n",
      "\u001b[31m-})\u001b[m\n",
      "\u001b[31m-.attempts(3) // if job fails retry 3 times\u001b[m\n",
      "\u001b[31m-.backoff({delay: 60 * 1000}) // wait 60s before retry\u001b[m\n",
      "\u001b[31m-.save();\u001b[m\n",
      "\u001b[31m-\u001b[m\n",
      "\u001b[31m-\u001b[m\n",
      "\u001b[32m+\u001b[m\u001b[32mfor (i = 0; i < 4; i++) {\u001b[m\n",
      "\u001b[32m+\u001b[m\u001b[32m    let job = queue.create(`download`, {\u001b[m\n",
      "\u001b[32m+\u001b[m\u001b[32m        file : `Sample/path/to/file${new Date()}`\u001b[m\n",
      "\u001b[32m+\u001b[m\u001b[32m    })\u001b[m\n",
      "\u001b[32m+\u001b[m\u001b[32m    .attempts(3) // if job fails retry 3 times\u001b[m\n",
      "\u001b[32m+\u001b[m\u001b[32m    .backoff({delay: 60 * 1000}) // wait 60s before retry\u001b[m\n",
      "\u001b[32m+\u001b[m\u001b[32m    .save();\u001b[m\n",
      " \u001b[m\n",
      "\u001b[31m- \u001b[m\n",
      "\u001b[32m+\u001b[m\u001b[32m    console.log(new Date());\u001b[m\n",
      "\u001b[32m+\u001b[m\u001b[32m}\u001b[m\n",
      "\u001b[1mdiff --git a/listJobs.js b/listJobs.js\u001b[m\n",
      "\u001b[1mindex b1c6a32..410322d 100644\u001b[m\n",
      "\u001b[1m--- a/listJobs.js\u001b[m\n",
      "\u001b[1m+++ b/listJobs.js\u001b[m\n",
      "\u001b[36m@@ -7,10 +7,10 @@\u001b[m \u001b[mkue.Job.range(0, -1, 'asc', (err, jobs) => {\u001b[m\n",
      "   })\u001b[m\n",
      " });\u001b[m\n",
      " \u001b[m\n",
      "\u001b[31m-/*\u001b[m\n",
      "\u001b[32m+\u001b[m\n",
      " queue.complete((err, jobs) => {\u001b[m\n",
      "   jobs.map(job => {\u001b[m\n",
      "     console.log(`Job ${job.id}, data : ${job.data}`); \u001b[m\n",
      "   })\u001b[m\n",
      " })\u001b[m\n",
      "\u001b[31m-*/\u001b[m\n",
      "\u001b[41m+\u001b[m\n",
      "\u001b[1mdiff --git a/worker.js b/worker.js\u001b[m\n",
      "\u001b[1mindex d4206bb..e42968d 100644\u001b[m\n",
      "\u001b[1m--- a/worker.js\u001b[m\n",
      "\u001b[1m+++ b/worker.js\u001b[m\n",
      "\u001b[36m@@ -1,7 +1,13 @@\u001b[m\n",
      " \u001b[m\n",
      " let kue   = require('kue');\u001b[m\n",
      " let queue = kue.createQueue();\u001b[m\n",
      "\u001b[31m-let sleep = require('sleep');\u001b[m\n",
      "\u001b[32m+\u001b[m\n",
      "\u001b[32m+\u001b[m\u001b[32mfunction msleep(n) {\u001b[m\n",
      "\u001b[32m+\u001b[m\u001b[32m  Atomics.wait(new Int32Array(new SharedArrayBuffer(4)), 0, 0, n);\u001b[m\n",
      "\u001b[32m+\u001b[m\u001b[32m}\u001b[m\n",
      "\u001b[32m+\u001b[m\u001b[32mfunction sleep(n) {\u001b[m\n",
      "\u001b[32m+\u001b[m\u001b[32m  msleep(n*1000);\u001b[m\n",
      "\u001b[32m+\u001b[m\u001b[32m}\u001b[m\n",
      " \u001b[m\n",
      " queue.process(`download`, function(job, done){\u001b[m\n",
      "   console.log(`Working on job ${job.id}`);\u001b[m\n",
      "\u001b[36m@@ -11,10 +17,11 @@\u001b[m \u001b[mqueue.process(`download`, function(job, done){\u001b[m\n",
      " \u001b[m\n",
      " \u001b[m\n",
      " function downloadFile (file, done) {\u001b[m\n",
      "\u001b[31m-  sleep.sleep(5);\u001b[m\n",
      "\u001b[32m+\u001b[m\u001b[32m  console.log(new Date());\u001b[m\n",
      "\u001b[32m+\u001b[m\u001b[32m  sleep(5);\u001b[m\n",
      " \u001b[m\n",
      "   console.log(`Downloading file : ${file}`);\u001b[m\n",
      "\u001b[31m-  sleep.sleep(5);\u001b[m\n",
      "\u001b[32m+\u001b[m\u001b[32m  sleep(5);\u001b[m\n",
      "   console.log(`Download Complete`);\u001b[m\n",
      "   done();\u001b[m\n",
      " \u001b[m\n"
     ]
    }
   ],
   "source": [
    "!git diff"
   ]
  },
  {
   "cell_type": "code",
   "execution_count": null,
   "metadata": {},
   "outputs": [],
   "source": [
    "!git add client.js worker.js kuetest.ipynb"
   ]
  }
 ],
 "metadata": {
  "hide_input": false,
  "kernelspec": {
   "display_name": "Environment (conda_canarydev)",
   "language": "python",
   "name": "conda_canarydev"
  },
  "language_info": {
   "codemirror_mode": {
    "name": "ipython",
    "version": 3
   },
   "file_extension": ".py",
   "mimetype": "text/x-python",
   "name": "python",
   "nbconvert_exporter": "python",
   "pygments_lexer": "ipython3",
   "version": "3.6.9"
  },
  "toc": {
   "base_numbering": 1,
   "nav_menu": {},
   "number_sections": true,
   "sideBar": true,
   "skip_h1_title": false,
   "title_cell": "Table of Contents",
   "title_sidebar": "Contents",
   "toc_cell": false,
   "toc_position": {},
   "toc_section_display": true,
   "toc_window_display": false
  },
  "varInspector": {
   "cols": {
    "lenName": 16,
    "lenType": 16,
    "lenVar": 40
   },
   "kernels_config": {
    "python": {
     "delete_cmd_postfix": "",
     "delete_cmd_prefix": "del ",
     "library": "var_list.py",
     "varRefreshCmd": "print(var_dic_list())"
    },
    "r": {
     "delete_cmd_postfix": ") ",
     "delete_cmd_prefix": "rm(",
     "library": "var_list.r",
     "varRefreshCmd": "cat(var_dic_list()) "
    }
   },
   "types_to_exclude": [
    "module",
    "function",
    "builtin_function_or_method",
    "instance",
    "_Feature"
   ],
   "window_display": false
  }
 },
 "nbformat": 4,
 "nbformat_minor": 2
}
